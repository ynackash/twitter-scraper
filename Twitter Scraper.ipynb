{
 "cells": [
  {
   "cell_type": "markdown",
   "metadata": {},
   "source": [
    "## Twitter Scraper\n",
    "Given a csv of twitter users, login to twitter and pull the \"following\" list for each user"
   ]
  },
  {
   "cell_type": "code",
   "execution_count": 1,
   "metadata": {},
   "outputs": [],
   "source": [
    "import pandas as pd\n",
    "import http.cookiejar \n",
    "import selenium.webdriver \n",
    "from selenium import webdriver \n",
    "from bs4 import BeautifulSoup as bs \n",
    "import time\n",
    "import re\n",
    "import csv"
   ]
  },
  {
   "cell_type": "code",
   "execution_count": 2,
   "metadata": {},
   "outputs": [],
   "source": [
    "#Store twitter credentials\n",
    "username =\"\"\n",
    "password =\"\""
   ]
  },
  {
   "cell_type": "code",
   "execution_count": 6,
   "metadata": {
    "scrolled": true
   },
   "outputs": [
    {
     "name": "stdout",
     "output_type": "stream",
     "text": [
      "Complete\n"
     ]
    }
   ],
   "source": [
    "#Create broweser instance, sleep for 5 seconds to let webpage to load before trying to find_element\n",
    "driver = webdriver.Chrome('chromedriver.exe')\n",
    "driver.base_url = \"https://twitter.com/login\"\n",
    "driver.get(driver.base_url)\n",
    "time.sleep(5)\n",
    "\n",
    "#Locate username/password fields and enter credentials\n",
    "username_field = driver.find_element_by_name('session[username_or_email]')\n",
    "password_field = driver.find_element_by_name('session[password]')\n",
    "username_field.send_keys(username)\n",
    "password_field.send_keys(password)\n",
    "\n",
    "#Locate login button and click\n",
    "driver.find_element_by_css_selector(\"[data-testid='LoginForm_Login_Button'][role='button']\").click()\n",
    "\n",
    "#Load list of users and store in data frame\n",
    "data = pd.read_csv(\"test_users.csv\")\n",
    "allusers = data['Users']\n",
    "\n",
    "results = []\n",
    "nodes = [] \n",
    "\n",
    "#Loop through users and pull their following handles\n",
    "for user in allusers:\n",
    "    #Navigate to user profile and parse html\n",
    "    driver.base_url = \"https://twitter.com/\"+user\n",
    "    driver.get(driver.base_url)\n",
    "    time.sleep(2)\n",
    "    html_source = driver.page_source\n",
    "    sourcedata = html_source.encode('utf-8')\n",
    "    soup = bs(sourcedata)\n",
    "   \n",
    "    #Check if user is private, if so skip to next user\n",
    "    if (soup.find('svg',{'aria-label':'Protected account'})):\n",
    "        nodes.append([user,'private'])\n",
    "        continue\n",
    "    \n",
    "    #Check if user is following 0, or more than 1000 people (potentially a bot), if so skip to next user\n",
    "    following = soup.find('a',{'href':'/'+user+'/following'})['title']\n",
    "    following = int(following.replace(',', ''))\n",
    "    \n",
    "    if (following == 0):\n",
    "        nodes.append([user,following])\n",
    "        continue\n",
    "        \n",
    "    if (following > 1000):\n",
    "        nodes.append([user,following])\n",
    "        continue\n",
    "        \n",
    "    nodes.append([user,following])\n",
    "    \n",
    "    #If user satisfies above conditions, navigate to 'following' page and pull 'following' list\n",
    "    driver.base_url = \"https://twitter.com/\"+user+'/following'\n",
    "    driver.get(driver.base_url)\n",
    "    time.sleep(3)\n",
    "\n",
    "    #Loop through page and pull content, scrolling until all users were found (counter == 0)\n",
    "    counter = following\n",
    "    \n",
    "    while counter > 0:\n",
    "        #Skip the scroll for first iteration, scroll for all other iterations \n",
    "        if (counter != following): \n",
    "            driver.execute_script(\"window.scrollTo(0, document.body.scrollHeight);\")\n",
    "            time.sleep(2)\n",
    "\n",
    "        html_source = driver.page_source\n",
    "        sourcedata = html_source.encode('utf-8')\n",
    "        soup = bs(sourcedata)\n",
    "\n",
    "        #Find all profiles on webpage and store as separate lines\n",
    "        frame = soup.find('div', {'aria-label':'Timeline: Following'})\n",
    "        spans = frame.findAll('span',{'class':'css-901oao css-16my406 r-1qd0xha r-ad9z0x r-bcqeeo r-qvutc0'})\n",
    "        lines = [span.get_text() for span in spans]\n",
    "\n",
    "        #Identify lines that contain user handle (\"@\"). Store in results[] if not there already, decrement counter\n",
    "        for line in lines:\n",
    "            at = re.search(\"^@.*\",line)\n",
    "            if(at):\n",
    "                at = at.group(0)[1:]\n",
    "                if([user,at] not in results):\n",
    "                    results.append([user,at])\n",
    "                    counter -= 1\n",
    "\n",
    "#Add users, both source users and target users, to nodes list without duplicates\n",
    "for i in results:\n",
    "    if ([i[1],''] not in nodes):\n",
    "        nodes.append([i[1],'']) \n",
    "\n",
    "#Write nodes user list to CSV\n",
    "with open('Twitter_nodes.csv', 'w',newline='') as outfile:\n",
    "    writer = csv.writer(outfile)\n",
    "    writer.writerow(['User','Following'])\n",
    "    writer.writerows(nodes)\n",
    "        \n",
    "#Write results source/target list to CSV\n",
    "with open('Twitter_edges.csv', 'w', newline='') as outfile:\n",
    "    writer = csv.writer(outfile)\n",
    "    writer.writerow(['Source','Target'])\n",
    "    writer.writerows(results) \n",
    "\n",
    "print('Complete')"
   ]
  },
  {
   "cell_type": "code",
   "execution_count": null,
   "metadata": {},
   "outputs": [],
   "source": []
  }
 ],
 "metadata": {
  "kernelspec": {
   "display_name": "Python 3",
   "language": "python",
   "name": "python3"
  },
  "language_info": {
   "codemirror_mode": {
    "name": "ipython",
    "version": 3
   },
   "file_extension": ".py",
   "mimetype": "text/x-python",
   "name": "python",
   "nbconvert_exporter": "python",
   "pygments_lexer": "ipython3",
   "version": "3.7.4"
  }
 },
 "nbformat": 4,
 "nbformat_minor": 4
}
